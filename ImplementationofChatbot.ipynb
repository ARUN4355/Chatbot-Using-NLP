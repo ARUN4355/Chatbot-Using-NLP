{
 "cells": [
  {
   "cell_type": "code",
   "execution_count": null,
   "id": "f5b42dff-3b7f-4275-bef6-86580c7bbf47",
   "metadata": {},
   "outputs": [],
   "source": []
  },
  {
   "cell_type": "code",
   "execution_count": 63,
   "id": "039d8fea-c6a7-46d9-bf77-2ead5f8b84bf",
   "metadata": {},
   "outputs": [
    {
     "name": "stdout",
     "output_type": "stream",
     "text": [
      "Requirement already satisfied: nltk in c:\\users\\arun1\\anaconda3\\lib\\site-packages (3.9.1)\n",
      "Requirement already satisfied: scikit-learn in c:\\users\\arun1\\anaconda3\\lib\\site-packages (1.5.1)\n",
      "Requirement already satisfied: streamlit in c:\\users\\arun1\\anaconda3\\lib\\site-packages (1.37.1)\n",
      "Requirement already satisfied: click in c:\\users\\arun1\\anaconda3\\lib\\site-packages (from nltk) (8.1.7)\n",
      "Requirement already satisfied: joblib in c:\\users\\arun1\\anaconda3\\lib\\site-packages (from nltk) (1.4.2)\n",
      "Requirement already satisfied: regex>=2021.8.3 in c:\\users\\arun1\\anaconda3\\lib\\site-packages (from nltk) (2024.9.11)\n",
      "Requirement already satisfied: tqdm in c:\\users\\arun1\\anaconda3\\lib\\site-packages (from nltk) (4.66.5)\n",
      "Requirement already satisfied: numpy>=1.19.5 in c:\\users\\arun1\\anaconda3\\lib\\site-packages (from scikit-learn) (1.26.4)\n",
      "Requirement already satisfied: scipy>=1.6.0 in c:\\users\\arun1\\anaconda3\\lib\\site-packages (from scikit-learn) (1.13.1)\n",
      "Requirement already satisfied: threadpoolctl>=3.1.0 in c:\\users\\arun1\\anaconda3\\lib\\site-packages (from scikit-learn) (3.5.0)\n",
      "Requirement already satisfied: altair<6,>=4.0 in c:\\users\\arun1\\anaconda3\\lib\\site-packages (from streamlit) (5.0.1)\n",
      "Requirement already satisfied: blinker<2,>=1.0.0 in c:\\users\\arun1\\anaconda3\\lib\\site-packages (from streamlit) (1.6.2)\n",
      "Requirement already satisfied: cachetools<6,>=4.0 in c:\\users\\arun1\\anaconda3\\lib\\site-packages (from streamlit) (5.3.3)\n",
      "Requirement already satisfied: packaging<25,>=20 in c:\\users\\arun1\\anaconda3\\lib\\site-packages (from streamlit) (24.1)\n",
      "Requirement already satisfied: pandas<3,>=1.3.0 in c:\\users\\arun1\\anaconda3\\lib\\site-packages (from streamlit) (2.2.2)\n",
      "Requirement already satisfied: pillow<11,>=7.1.0 in c:\\users\\arun1\\anaconda3\\lib\\site-packages (from streamlit) (10.4.0)\n",
      "Requirement already satisfied: protobuf<6,>=3.20 in c:\\users\\arun1\\anaconda3\\lib\\site-packages (from streamlit) (4.25.3)\n",
      "Requirement already satisfied: pyarrow>=7.0 in c:\\users\\arun1\\anaconda3\\lib\\site-packages (from streamlit) (16.1.0)\n",
      "Requirement already satisfied: requests<3,>=2.27 in c:\\users\\arun1\\anaconda3\\lib\\site-packages (from streamlit) (2.32.3)\n",
      "Requirement already satisfied: rich<14,>=10.14.0 in c:\\users\\arun1\\anaconda3\\lib\\site-packages (from streamlit) (13.7.1)\n",
      "Requirement already satisfied: tenacity<9,>=8.1.0 in c:\\users\\arun1\\anaconda3\\lib\\site-packages (from streamlit) (8.2.3)\n",
      "Requirement already satisfied: toml<2,>=0.10.1 in c:\\users\\arun1\\anaconda3\\lib\\site-packages (from streamlit) (0.10.2)\n",
      "Requirement already satisfied: typing-extensions<5,>=4.3.0 in c:\\users\\arun1\\anaconda3\\lib\\site-packages (from streamlit) (4.11.0)\n",
      "Requirement already satisfied: gitpython!=3.1.19,<4,>=3.0.7 in c:\\users\\arun1\\anaconda3\\lib\\site-packages (from streamlit) (3.1.43)\n",
      "Requirement already satisfied: pydeck<1,>=0.8.0b4 in c:\\users\\arun1\\anaconda3\\lib\\site-packages (from streamlit) (0.8.0)\n",
      "Requirement already satisfied: tornado<7,>=6.0.3 in c:\\users\\arun1\\anaconda3\\lib\\site-packages (from streamlit) (6.4.1)\n",
      "Requirement already satisfied: watchdog<5,>=2.1.5 in c:\\users\\arun1\\anaconda3\\lib\\site-packages (from streamlit) (4.0.1)\n",
      "Requirement already satisfied: jinja2 in c:\\users\\arun1\\anaconda3\\lib\\site-packages (from altair<6,>=4.0->streamlit) (3.1.4)\n",
      "Requirement already satisfied: jsonschema>=3.0 in c:\\users\\arun1\\anaconda3\\lib\\site-packages (from altair<6,>=4.0->streamlit) (4.23.0)\n",
      "Requirement already satisfied: toolz in c:\\users\\arun1\\anaconda3\\lib\\site-packages (from altair<6,>=4.0->streamlit) (0.12.0)\n",
      "Requirement already satisfied: colorama in c:\\users\\arun1\\appdata\\roaming\\python\\python312\\site-packages (from click->nltk) (0.4.6)\n",
      "Requirement already satisfied: gitdb<5,>=4.0.1 in c:\\users\\arun1\\anaconda3\\lib\\site-packages (from gitpython!=3.1.19,<4,>=3.0.7->streamlit) (4.0.7)\n",
      "Requirement already satisfied: python-dateutil>=2.8.2 in c:\\users\\arun1\\appdata\\roaming\\python\\python312\\site-packages (from pandas<3,>=1.3.0->streamlit) (2.9.0.post0)\n",
      "Requirement already satisfied: pytz>=2020.1 in c:\\users\\arun1\\anaconda3\\lib\\site-packages (from pandas<3,>=1.3.0->streamlit) (2024.1)\n",
      "Requirement already satisfied: tzdata>=2022.7 in c:\\users\\arun1\\anaconda3\\lib\\site-packages (from pandas<3,>=1.3.0->streamlit) (2023.3)\n",
      "Requirement already satisfied: charset-normalizer<4,>=2 in c:\\users\\arun1\\anaconda3\\lib\\site-packages (from requests<3,>=2.27->streamlit) (3.3.2)\n",
      "Requirement already satisfied: idna<4,>=2.5 in c:\\users\\arun1\\anaconda3\\lib\\site-packages (from requests<3,>=2.27->streamlit) (3.7)\n",
      "Requirement already satisfied: urllib3<3,>=1.21.1 in c:\\users\\arun1\\anaconda3\\lib\\site-packages (from requests<3,>=2.27->streamlit) (2.2.3)\n",
      "Requirement already satisfied: certifi>=2017.4.17 in c:\\users\\arun1\\anaconda3\\lib\\site-packages (from requests<3,>=2.27->streamlit) (2025.1.31)\n",
      "Requirement already satisfied: markdown-it-py>=2.2.0 in c:\\users\\arun1\\anaconda3\\lib\\site-packages (from rich<14,>=10.14.0->streamlit) (2.2.0)\n",
      "Requirement already satisfied: pygments<3.0.0,>=2.13.0 in c:\\users\\arun1\\appdata\\roaming\\python\\python312\\site-packages (from rich<14,>=10.14.0->streamlit) (2.18.0)\n",
      "Requirement already satisfied: smmap<5,>=3.0.1 in c:\\users\\arun1\\anaconda3\\lib\\site-packages (from gitdb<5,>=4.0.1->gitpython!=3.1.19,<4,>=3.0.7->streamlit) (4.0.0)\n",
      "Requirement already satisfied: MarkupSafe>=2.0 in c:\\users\\arun1\\anaconda3\\lib\\site-packages (from jinja2->altair<6,>=4.0->streamlit) (2.1.3)\n",
      "Requirement already satisfied: attrs>=22.2.0 in c:\\users\\arun1\\anaconda3\\lib\\site-packages (from jsonschema>=3.0->altair<6,>=4.0->streamlit) (23.1.0)\n",
      "Requirement already satisfied: jsonschema-specifications>=2023.03.6 in c:\\users\\arun1\\anaconda3\\lib\\site-packages (from jsonschema>=3.0->altair<6,>=4.0->streamlit) (2023.7.1)\n",
      "Requirement already satisfied: referencing>=0.28.4 in c:\\users\\arun1\\anaconda3\\lib\\site-packages (from jsonschema>=3.0->altair<6,>=4.0->streamlit) (0.30.2)\n",
      "Requirement already satisfied: rpds-py>=0.7.1 in c:\\users\\arun1\\anaconda3\\lib\\site-packages (from jsonschema>=3.0->altair<6,>=4.0->streamlit) (0.10.6)\n",
      "Requirement already satisfied: mdurl~=0.1 in c:\\users\\arun1\\anaconda3\\lib\\site-packages (from markdown-it-py>=2.2.0->rich<14,>=10.14.0->streamlit) (0.1.0)\n",
      "Requirement already satisfied: six>=1.5 in c:\\users\\arun1\\appdata\\roaming\\python\\python312\\site-packages (from python-dateutil>=2.8.2->pandas<3,>=1.3.0->streamlit) (1.16.0)\n",
      "Note: you may need to restart the kernel to use updated packages.\n"
     ]
    }
   ],
   "source": [
    "pip install nltk scikit-learn streamlit"
   ]
  },
  {
   "cell_type": "code",
   "execution_count": 64,
   "id": "4ba495ab-c4f3-4b4d-90f0-e5e4fe83d08f",
   "metadata": {},
   "outputs": [
    {
     "name": "stderr",
     "output_type": "stream",
     "text": [
      "[nltk_data] Downloading package punkt to\n",
      "[nltk_data]     C:\\Users\\arun1\\AppData\\Roaming\\nltk_data...\n",
      "[nltk_data]   Package punkt is already up-to-date!\n"
     ]
    },
    {
     "data": {
      "text/plain": [
       "True"
      ]
     },
     "execution_count": 64,
     "metadata": {},
     "output_type": "execute_result"
    }
   ],
   "source": [
    "import random\n",
    "import json\n",
    "import os\n",
    "import nltk\n",
    "from sklearn.feature_extraction.text import TfidfVectorizer\n",
    "from sklearn.linear_model import LogisticRegression\n",
    "\n",
    "# Handling SSL certificate issue (if any)\n",
    "import ssl\n",
    "ssl._create_default_https_context = ssl._create_unverified_context\n",
    "\n",
    "nltk.download('punkt')\n"
   ]
  },
  {
   "cell_type": "code",
   "execution_count": 65,
   "id": "13c80267-e077-48b6-a0e8-647371519390",
   "metadata": {},
   "outputs": [],
   "source": [
    "# Define chatbot intents (Smart Farming + General Queries)\n",
    "intents = [\n",
    "    {\"tag\": \"greeting\", \"patterns\": [\"Hi\", \"Hello\", \"Hey\", \"What's up\", \"How are you\"],\n",
    "     \"responses\": [\"Hi there!\", \"Hello!\", \"Hey!\", \"Nothing much.\", \"I'm fine, thank you!\"]},\n",
    "\n",
    "    {\"tag\": \"goodbye\", \"patterns\": [\"Bye\", \"See you later\", \"Goodbye\", \"Take care\"],\n",
    "     \"responses\": [\"Goodbye!\", \"See you later!\", \"Take care!\"]},\n",
    "\n",
    "    {\"tag\": \"thanks\", \"patterns\": [\"Thank you\", \"Thanks\", \"Thanks a lot\", \"I appreciate it\"],\n",
    "     \"responses\": [\"You're welcome!\", \"No problem!\", \"Glad I could help!\"]},\n",
    "\n",
    "    {\"tag\": \"about\", \"patterns\": [\"What can you do?\", \"Who are you?\", \"What are you?\", \"What is your purpose?\"],\n",
    "     \"responses\": [\"I am a chatbot for Smart Farming!\", \"I assist in answering farming-related queries.\", \"I can help with agriculture, crop health, and weather advice.\"]},\n",
    "\n",
    "    {\"tag\": \"help\", \"patterns\": [\"Help\", \"I need help\", \"Can you help me?\", \"What should I do?\"],\n",
    "     \"responses\": [\"Sure, what do you need help with?\", \"I'm here to help. What's the problem?\", \"How can I assist you?\"]},\n",
    "\n",
    "    {\"tag\": \"age\", \"patterns\": [\"How old are you?\", \"What's your age?\"],\n",
    "     \"responses\": [\"I don't have an age. I'm a chatbot.\", \"I was just born in the digital world.\", \"Age is just a number for me.\"]},\n",
    "\n",
    "    {\"tag\": \"weather\", \"patterns\": [\"What's the weather like?\", \"How's the weather today?\"],\n",
    "     \"responses\": [\"I'm sorry, I cannot provide real-time weather information.\", \"You can check the weather on a weather app or website.\"]},\n",
    "\n",
    "    {\"tag\": \"budget\", \"patterns\": [\"How can I make a budget?\", \"What's a good budgeting strategy?\", \"How do I create a budget?\"],\n",
    "     \"responses\": [\"To make a budget, track your income and expenses.\", \"Use the 50/30/20 rule: 50% essentials, 30% wants, 20% savings.\", \"Set financial goals and allocate money wisely.\"]},\n",
    "\n",
    "    {\"tag\": \"credit_score\", \"patterns\": [\"What is a credit score?\", \"How do I check my credit score?\", \"How can I improve my credit score?\"],\n",
    "     \"responses\": [\"A credit score represents your creditworthiness.\", \"You can check your credit score on sites like Credit Karma.\", \"Pay bills on time and reduce debt to improve your score.\"]},\n",
    "\n",
    "    {\"tag\": \"soil_health\", \"patterns\": [\"How to improve soil health?\", \"Best ways to maintain soil?\", \"How can I increase soil fertility?\"],\n",
    "     \"responses\": [\"Use organic compost and rotate crops.\", \"Avoid excessive chemical fertilizers.\", \"Plant cover crops to improve soil quality.\"]},\n",
    "\n",
    "    {\"tag\": \"pest_control\", \"patterns\": [\"How to control pests naturally?\", \"What are organic pest control methods?\", \"How can I reduce pests in farming?\"],\n",
    "     \"responses\": [\"Use neem oil and companion planting.\", \"Crop rotation helps prevent pest infestation.\", \"Introduce natural predators like ladybugs.\"]},\n",
    "\n",
    "    {\"tag\": \"fertilizer\", \"patterns\": [\"What fertilizer should I use for wheat?\", \"Best fertilizer for rice?\", \"Which fertilizer improves crop yield?\"],\n",
    "     \"responses\": [\"For wheat, use Nitrogen-based fertilizers like Urea.\", \"Rice grows well with Potassium-based fertilizers.\", \"Balanced fertilizers (NPK) are great for overall growth.\"]},\n",
    "\n",
    "    {\"tag\": \"crop_rotation\", \"patterns\": [\"Why is crop rotation important?\", \"Benefits of crop rotation?\", \"How does crop rotation help?\"],\n",
    "     \"responses\": [\"It prevents soil depletion and improves fertility.\", \"Crop rotation reduces pests and diseases.\", \"It enhances biodiversity and sustainable farming.\"]}\n",
    "]\n"
   ]
  },
  {
   "cell_type": "code",
   "execution_count": 66,
   "id": "dc8cd314-80d8-4038-b341-d207bf74e72e",
   "metadata": {},
   "outputs": [],
   "source": [
    "# Save memory file for chatbot\n",
    "MEMORY_FILE = \"chatbot_memory.json\"\n",
    "\n",
    "# Load memory if available\n",
    "if os.path.exists(MEMORY_FILE):\n",
    "    with open(MEMORY_FILE, \"r\") as file:\n",
    "        chatbot_memory = json.load(file)\n",
    "else:\n",
    "    chatbot_memory = {}\n"
   ]
  },
  {
   "cell_type": "code",
   "execution_count": 67,
   "id": "52da5107-987f-47a2-bdd0-05296f61d996",
   "metadata": {},
   "outputs": [],
   "source": [
    "# Create the vectorizer and classifier\n",
    "vectorizer = TfidfVectorizer()\n",
    "clf = LogisticRegression(random_state=0, max_iter=10000)\n",
    "\n",
    "# Prepare the data\n",
    "tags = []\n",
    "patterns = []\n",
    "for intent in intents:\n",
    "    for pattern in intent['patterns']:\n",
    "        tags.append(intent['tag'])\n",
    "        patterns.append(pattern)\n",
    "\n"
   ]
  },
  {
   "cell_type": "code",
   "execution_count": 68,
   "id": "3f801e9e-5d6c-40d1-82e8-1665ab8400d7",
   "metadata": {},
   "outputs": [],
   "source": [
    "# Train the model\n",
    "x = vectorizer.fit_transform(patterns)\n",
    "y = tags\n",
    "clf.fit(x, y)\n",
    "\n",
    "# Chatbot function\n",
    "def chatbot(input_text):\n",
    "    input_text_lower = input_text.lower()\n",
    "    \n",
    "    # Check memory for learned responses\n",
    "    if input_text_lower in chatbot_memory:\n",
    "        return chatbot_memory[input_text_lower]\n",
    "    \n",
    "    # Predict category\n",
    "    input_vector = vectorizer.transform([input_text])\n",
    "    predicted_tag = clf.predict(input_vector)[0]\n",
    "    \n",
    "    # Search for response\n",
    "    for intent in intents:\n",
    "        if intent[\"tag\"] == predicted_tag:\n",
    "            return random.choice(intent[\"responses\"])\n",
    "    \n",
    "    return None\n"
   ]
  },
  {
   "cell_type": "code",
   "execution_count": 69,
   "id": "7dd59f35-b269-41ea-b920-8db00ed54609",
   "metadata": {},
   "outputs": [
    {
     "name": "stdin",
     "output_type": "stream",
     "text": [
      "\n",
      "You:  hi\n"
     ]
    },
    {
     "name": "stdout",
     "output_type": "stream",
     "text": [
      "\n",
      "Chatbot: Hi there!\n"
     ]
    },
    {
     "name": "stdin",
     "output_type": "stream",
     "text": [
      "\n",
      "You:  fertilizer\n"
     ]
    },
    {
     "name": "stdout",
     "output_type": "stream",
     "text": [
      "\n",
      "Chatbot: Rice grows well with Potassium-based fertilizers.\n"
     ]
    },
    {
     "name": "stdin",
     "output_type": "stream",
     "text": [
      "\n",
      "You:  ai\n"
     ]
    },
    {
     "name": "stdout",
     "output_type": "stream",
     "text": [
      "\n",
      "Chatbot: Hello!\n"
     ]
    },
    {
     "name": "stdin",
     "output_type": "stream",
     "text": [
      "\n",
      "You:  what is AI\n"
     ]
    },
    {
     "name": "stdout",
     "output_type": "stream",
     "text": [
      "\n",
      "Chatbot: I can help with agriculture, crop health, and weather advice.\n"
     ]
    },
    {
     "name": "stdin",
     "output_type": "stream",
     "text": [
      "\n",
      "You:  what is this\n"
     ]
    },
    {
     "name": "stdout",
     "output_type": "stream",
     "text": [
      "\n",
      "Chatbot: I am a chatbot for Smart Farming!\n"
     ]
    },
    {
     "name": "stdin",
     "output_type": "stream",
     "text": [
      "\n",
      "You:  bye\n"
     ]
    },
    {
     "name": "stdout",
     "output_type": "stream",
     "text": [
      "\n",
      "Chatbot: Goodbye! Have a great day! 😊\n"
     ]
    }
   ],
   "source": [
    "# Running chatbot \n",
    "while True:\n",
    "    user_query = input(\"\\nYou: \")  # User input\n",
    "    if user_query.lower() in [\"exit\", \"quit\", \"bye\"]:\n",
    "        print(\"\\nChatbot: Goodbye! Have a great day! 😊\")\n",
    "        break\n",
    "\n",
    "    response = chatbot(user_query)\n",
    "\n",
    "    # If chatbot doesn't recognize the input, ask for help\n",
    "    if response is None:\n",
    "        new_response = input(f\"\\nChatbot: I don't know the answer to '{user_query}'. Can you teach me? \")\n",
    "        if new_response:\n",
    "            chatbot_memory[user_query.lower()] = new_response  # Save new response\n",
    "            with open(MEMORY_FILE, \"w\") as file:\n",
    "                json.dump(chatbot_memory, file)  # Save to memory\n",
    "            print(\"\\nChatbot: Thank you! I have learned a new response.\")\n",
    "            response = new_response  # Use the new response\n",
    "\n",
    "    print(\"\\nChatbot:\", response)  # Display chatbot response"
   ]
  },
  {
   "cell_type": "code",
   "execution_count": null,
   "id": "5968301a-9bf2-4d92-abd3-644063f26b18",
   "metadata": {},
   "outputs": [],
   "source": []
  },
  {
   "cell_type": "code",
   "execution_count": null,
   "id": "48661f78-a249-4407-b421-e81402c8bcb2",
   "metadata": {},
   "outputs": [],
   "source": []
  },
  {
   "cell_type": "code",
   "execution_count": null,
   "id": "4771fb66-6c4c-4d38-ac77-6a6fc46fe76a",
   "metadata": {},
   "outputs": [],
   "source": []
  },
  {
   "cell_type": "code",
   "execution_count": null,
   "id": "ab64d053-1ed4-4e4a-aa93-fd055319262c",
   "metadata": {},
   "outputs": [],
   "source": []
  }
 ],
 "metadata": {
  "kernelspec": {
   "display_name": "Python [conda env:base] *",
   "language": "python",
   "name": "conda-base-py"
  },
  "language_info": {
   "codemirror_mode": {
    "name": "ipython",
    "version": 3
   },
   "file_extension": ".py",
   "mimetype": "text/x-python",
   "name": "python",
   "nbconvert_exporter": "python",
   "pygments_lexer": "ipython3",
   "version": "3.12.7"
  }
 },
 "nbformat": 4,
 "nbformat_minor": 5
}
